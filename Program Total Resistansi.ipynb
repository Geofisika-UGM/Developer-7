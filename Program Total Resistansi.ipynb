{
 "cells": [
  {
   "cell_type": "code",
   "execution_count": 1,
   "metadata": {},
   "outputs": [
    {
     "name": "stdout",
     "output_type": "stream",
     "text": [
      "Total Resistansi : 6.0 ohms.\n"
     ]
    }
   ],
   "source": [
    "#Menghitung total resistansi rangkaian seri\n",
    "def total_resistance_series(resistances):\n",
    "    total_resistance = 0\n",
    "    for resistansi in resistances:\n",
    "        total_resistance += resistansi\n",
    "    return total_resistance\n",
    "\n",
    "#Menghitung total resistansi rangkaian paralel\n",
    "def total_resistance_parallel(resistances):\n",
    "    inverse_total_resistance = 0\n",
    "    for resistansi in resistances:\n",
    "        inverse_total_resistance += 1 / resistansi\n",
    "    return 1 / inverse_total_resistance\n",
    "\n",
    "#Input banyaknya rangkaian\n",
    "num_groups = int(input(\"Masukkan Banyaknya Rangkaian: \"))\n",
    "\n",
    "#Menyimpan resistansi dan jenis rangkaian\n",
    "resistances = []\n",
    "connections = []\n",
    "\n",
    "#Input Jenis Rangkaian\n",
    "for i in range(num_groups):\n",
    "    connection = input(\"Masukkan Jenis Rangkaian \" + str(i+1) + \" (S for series, P for parallel): \")\n",
    "    connections.append(connection)\n",
    "\n",
    "    #Input Banyak Hambatan\n",
    "    num_resistors = int(input(\"Masukkan Banyaknya Hambatan \" + str(i+1) + \": \"))\n",
    "\n",
    "    #Menyimpan nilai resistansi masing\" rangkaian\n",
    "    group_resistances = []\n",
    "\n",
    "    #Input Nilai Hambatan Tiap Rangkaian\n",
    "    for j in range(num_resistors):\n",
    "        resistansi = float(input(\"Masukkan Nilai Hambatan \" + str(j+1) + \" di Rangkaian \" + str(i+1) + \"(ohm) ): \"))\n",
    "        group_resistances.append(resistansi)\n",
    "\n",
    "    # Menambahkan nilai resistansi untuk masing\" rangkaian\n",
    "    resistances.append(group_resistances)\n",
    "\n",
    "#Menghitung Nilai Resistansi\n",
    "total_resistance = 0\n",
    "for i in range(num_groups):\n",
    "    if connections[i] == \"S\":\n",
    "        total_resistance += total_resistance_series(resistances[i])\n",
    "    else:\n",
    "        total_resistance += total_resistance_parallel(resistances[i])\n",
    "\n",
    "#Print Hasil\n",
    "print(\"Total Resistansi : \" + str(total_resistance) + \" ohms.\")"
   ]
  }
 ],
 "metadata": {
  "kernelspec": {
   "display_name": "Python 3.10.x 64-bit (microsoft store)",
   "language": "python",
   "name": "python3"
  },
  "language_info": {
   "codemirror_mode": {
    "name": "ipython",
    "version": 3
   },
   "file_extension": ".py",
   "mimetype": "text/x-python",
   "name": "python",
   "nbconvert_exporter": "python",
   "pygments_lexer": "ipython3",
   "version": "3.10.8"
  },
  "orig_nbformat": 4,
  "vscode": {
   "interpreter": {
    "hash": "65a440aeac0c89e2af7569e0aa53b64434c4b69eb6285e2b0d174d9bca190d54"
   }
  }
 },
 "nbformat": 4,
 "nbformat_minor": 2
}
