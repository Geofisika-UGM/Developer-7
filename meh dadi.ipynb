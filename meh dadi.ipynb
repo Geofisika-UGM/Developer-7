{
 "cells": [
  {
   "cell_type": "code",
   "execution_count": 25,
   "id": "c5a1f38b",
   "metadata": {},
   "outputs": [
    {
     "name": "stdout",
     "output_type": "stream",
     "text": [
      "Number of elements in array:3\n",
      "2\n",
      "2\n",
      "2\n",
      "[2, 2, 2]\n",
      "Tipe rangkaian, input p untuk rangkaian pararel atau input s untuk rangkaian seri:p\n",
      "<function tipe_rangkaian.__init__ at 0x000001E65D93F0A0>\n"
     ]
    }
   ],
   "source": [
    "a=[]\n",
    "n=int(input(\"Number of elements in array:\"))\n",
    "for i in range(0,n):\n",
    "   z =int(input())\n",
    "   a.append(z)\n",
    "print(a)\n",
    "m=str(input(\"Tipe rangkaian, input p untuk rangkaian pararel atau input s untuk rangkaian seri:\"))\n",
    "class tipe_rangkaian():\n",
    "    def __init__(self,p,s):\n",
    "        self.p=m\n",
    "        self.s=m\n",
    "        if m==self.p:\n",
    "            \n",
    "            par_res_total = 0\n",
    "            par_count = 0\n",
    "            \n",
    "            while par_count < a:\n",
    "                try:\n",
    "                    par_res_nilai = a\n",
    "                    par_res_total += 1/(par_res_nilai)\n",
    "                    par_count += 1\n",
    "                except ValueError as e:\n",
    "                    print('Besar Resistor', e)\n",
    "                    continue\n",
    "            print('Total resistensi = {} Ohms'.format(par_res_total))\n",
    "            return #par_resistance(a)\n",
    "        \n",
    "        elif m==self.s:\n",
    "        #def ser_resistance (a):\n",
    "            ser_res_total = 0\n",
    "            ser_count = 0\n",
    "            \n",
    "            while ser_count < a:\n",
    "                try:\n",
    "                    ser_res_nilai = a\n",
    "                    ser_res_total += ser_res_nilai\n",
    "                    ser_count += 1\n",
    "                except ValueError as e:\n",
    "                    print('Besaran Resistor', e)\n",
    "                    continue\n",
    "            print(\"Total resistansi = {} Ohms\".format(ser_res_total))\n",
    "            return\n",
    "k=tipe_rangkaian\n",
    "print(k.__init__)"
   ]
  },
  {
   "cell_type": "code",
   "execution_count": null,
   "id": "f9cdc1dd",
   "metadata": {},
   "outputs": [],
   "source": [
    "\"\"\"\"\n",
    "def main():\n",
    "    root_tipe_rangkaian=m\n",
    "    root= tipe_rangkaian(root_tipe_rangkaian)\n",
    "    root_tipe_rangkaian.mainloop()\n",
    "#ser_resistance(a)\\*\n",
    "if __name__ == '__main__':\n",
    "    main()\n"
   ]
  }
 ],
 "metadata": {
  "kernelspec": {
   "display_name": "Python 3 (ipykernel)",
   "language": "python",
   "name": "python3"
  },
  "language_info": {
   "codemirror_mode": {
    "name": "ipython",
    "version": 3
   },
   "file_extension": ".py",
   "mimetype": "text/x-python",
   "name": "python",
   "nbconvert_exporter": "python",
   "pygments_lexer": "ipython3",
   "version": "3.10.6"
  }
 },
 "nbformat": 4,
 "nbformat_minor": 5
}
