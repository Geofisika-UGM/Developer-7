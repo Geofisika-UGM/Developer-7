{
 "cells": [
  {
   "cell_type": "code",
   "execution_count": 2,
   "id": "d21f9e6c",
   "metadata": {},
   "outputs": [
    {
     "name": "stdout",
     "output_type": "stream",
     "text": [
      "Selamat Datang di Program Sini Sama OHM\n",
      "Input tegangan dalam Volt: 4\n",
      "Input arus dalam Ampere: 5\n",
      "pesan jumlah resistor dalam ohm: 3\n",
      "Elemen Resistor (Rn, p atau s): 2p 2p 3s\n",
      "True\n"
     ]
    }
   ],
   "source": [
    "#deklarasi input\n",
    "\n",
    "print('Selamat Datang di Program Sini Sama OHM')\n",
    "V = input('Input tegangan dalam Volt: ')\n",
    "I = input('Input arus dalam Ampere: ')\n",
    "R = int(input('pesan jumlah resistor dalam ohm: ')) #pesan array dengan jumlah elemen tertentu\n",
    "y=list(map(str, input('Elemen Resistor (Rn, p atau s): ').strip().split())) #ini string\n",
    "\n",
    "#deklarasi process dalam program\n",
    "\n",
    "class semua():\n",
    "    \n",
    "    def resistance(array):\n",
    "        if isinstance(array, int):\n",
    "            return array\n",
    "        else:\n",
    "            if isinstance(array,list):\n",
    "                temp = array\n",
    "            else:\n",
    "                temp = array.split(\" \")\n",
    "                i = 0\n",
    "        while True:\n",
    "            try:\n",
    "                a = new_resistance(temp[i], temp[i+1], temp[i+2])\n",
    "            except Exception as e:\n",
    "                i += 1            \n",
    "            if len(temp[i+3:]) == 0:\n",
    "                return resistance(new_resistance(temp[i], temp[i+1], temp[i+2]))\n",
    "            else:\n",
    "                return resistance(temp[:i] + [new_resistance(temp[i], temp[i+1], temp[i+2])] + temp[i+3:])\n",
    "        \n",
    "    def tipe_rangkaian():\n",
    "        if pararel==p:\n",
    "            return(0)\n",
    "        else:\n",
    "            seri==s\n",
    "            return (0)\n",
    "        \n",
    "    def R_total():\n",
    "        if tipe_rangkaian==p:\n",
    "            Rs_total=str(float(1/R1) + float(1/R2)+ float(1/R3)) \n",
    "        \n",
    "        elif tipe_rangkaian==s:\n",
    "            Rp_total=str(float(1/R1) + float(1/R2)+ float(1/R3)) \n",
    "            \n",
    "        R1_total=Rs_total+Rp_total\n",
    "        return R_total\n",
    "    \n",
    "    def hukumohm(self,V,I,y):\n",
    "        self.V=V\n",
    "        self.I=I\n",
    "        self.y=y\n",
    "        \n",
    "        R2_total== str(float(V)/float(I))  \n",
    "        return R2_total\n",
    "\n",
    "R12=R1_total=R2_total=True\n",
    "\n",
    "a=semua()\n",
    "\n",
    "#deklarasi output\n",
    "\n",
    "\n",
    "print (a.hukumohm(V,I,y))\n"
   ]
  },
  {
   "cell_type": "code",
   "execution_count": 3,
   "id": "ecfd262e",
   "metadata": {},
   "outputs": [
    {
     "name": "stdout",
     "output_type": "stream",
     "text": [
      "Masukkan jumlah resistor: 3\n",
      "Masukkan Nilai Resistensi dalam Ohm : 2\n",
      "Masukkan Nilai Resistensi dalam Ohm : 4\n",
      "Masukkan Nilai Resistensi dalam Ohm : 2\n",
      "Total resistansi = 8.0 Ohms\n"
     ]
    }
   ],
   "source": [
    "# Ini buat ngitung loop seri\n",
    "\n",
    "def ser_resistance (jumlah):\n",
    "    ser_res_total = 0\n",
    "    ser_res_besar = []\n",
    "    ser_count = 0\n",
    "\n",
    "    while ser_count < jumlah:\n",
    "        try:\n",
    "            ser_res_nilai=float(input('Masukkan Nilai Resistensi dalam Ohm : '))\n",
    "            ser_res_besar.append(ser_res_nilai)\n",
    "            ser_res_total += ser_res_nilai\n",
    "            ser_count += 1\n",
    "\n",
    "        except ValueError as e:\n",
    "            print('Besaran Resistor', e)\n",
    "            continue\n",
    "    \n",
    "    print(\"Total resistansi = {} Ohms\".format(ser_res_total))\n",
    "    return\n",
    "\n",
    "jumlah_resistor = int(input(\"Masukkan jumlah resistor: \"))\n",
    "ser_resistance(jumlah_resistor)"
   ]
  },
  {
   "cell_type": "code",
   "execution_count": 4,
   "id": "4a80b98b",
   "metadata": {},
   "outputs": [
    {
     "name": "stdout",
     "output_type": "stream",
     "text": [
      "Masukkan jumlah Resistor : 3\n",
      "Masukkan Nilai Resistensi dalam Ohm :2\n",
      "Masukkan Nilai Resistensi dalam Ohm :2\n",
      "Masukkan Nilai Resistensi dalam Ohm :2\n"
     ]
    },
    {
     "ename": "ZeroDivisionError",
     "evalue": "division by zero",
     "output_type": "error",
     "traceback": [
      "\u001b[1;31m---------------------------------------------------------------------------\u001b[0m",
      "\u001b[1;31mZeroDivisionError\u001b[0m                         Traceback (most recent call last)",
      "Cell \u001b[1;32mIn [4], line 28\u001b[0m\n\u001b[0;32m     25\u001b[0m     \u001b[38;5;28;01mreturn\u001b[39;00m\n\u001b[0;32m     27\u001b[0m jumlah_resistor \u001b[38;5;241m=\u001b[39m \u001b[38;5;28mint\u001b[39m(\u001b[38;5;28minput\u001b[39m(\u001b[38;5;124m'\u001b[39m\u001b[38;5;124mMasukkan jumlah Resistor : \u001b[39m\u001b[38;5;124m'\u001b[39m))\n\u001b[1;32m---> 28\u001b[0m \u001b[43mpar_resistance\u001b[49m\u001b[43m(\u001b[49m\u001b[43mjumlah_resistor\u001b[49m\u001b[43m)\u001b[49m\n",
      "Cell \u001b[1;32mIn [4], line 20\u001b[0m, in \u001b[0;36mpar_resistance\u001b[1;34m(jumlah)\u001b[0m\n\u001b[0;32m     17\u001b[0m         \u001b[38;5;28;01mcontinue\u001b[39;00m\n\u001b[0;32m     19\u001b[0m \u001b[38;5;28;01mfor\u001b[39;00m r \u001b[38;5;129;01min\u001b[39;00m \u001b[38;5;28mrange\u001b[39m(\u001b[38;5;28mint\u001b[39m(par_res_nilai)):\n\u001b[1;32m---> 20\u001b[0m     jum_par_res \u001b[38;5;241m+\u001b[39m\u001b[38;5;241m=\u001b[39m \u001b[38;5;241;43m1\u001b[39;49m\u001b[38;5;241;43m/\u001b[39;49m\u001b[43mr\u001b[49m\n\u001b[0;32m     22\u001b[0m par_res_total \u001b[38;5;241m=\u001b[39m \u001b[38;5;241m1\u001b[39m\u001b[38;5;241m/\u001b[39mjum_par_res\n\u001b[0;32m     24\u001b[0m \u001b[38;5;28mprint\u001b[39m(\u001b[38;5;124m'\u001b[39m\u001b[38;5;124mTotal resistensi = \u001b[39m\u001b[38;5;132;01m{}\u001b[39;00m\u001b[38;5;124m Ohms\u001b[39m\u001b[38;5;124m'\u001b[39m\u001b[38;5;241m.\u001b[39mformat(par_res_total))\n",
      "\u001b[1;31mZeroDivisionError\u001b[0m: division by zero"
     ]
    }
   ],
   "source": [
    "# ini buat ngitung paralel\n",
    "\n",
    "def par_resistance (jumlah):\n",
    "    par_res_total = 0\n",
    "    par_res_besar = []\n",
    "    jum_par_res = 0\n",
    "    par_count = 0\n",
    "\n",
    "    while par_count < jumlah:\n",
    "        try:\n",
    "            par_res_nilai = float(input('Masukkan Nilai Resistensi dalam Ohm :'))\n",
    "            par_res_besar.append(par_res_nilai)\n",
    "            par_count += 1\n",
    "        \n",
    "        except ValueError as e:\n",
    "            print('Besar Resistor', e)\n",
    "            continue\n",
    "    \n",
    "    for r in range(int(par_res_nilai)):\n",
    "        jum_par_res += 1/r\n",
    "\n",
    "    par_res_total = 1/jum_par_res\n",
    "\n",
    "    print('Total resistensi = {} Ohms'.format(par_res_total))\n",
    "    return\n",
    "\n",
    "jumlah_resistor = int(input('Masukkan jumlah Resistor : '))\n",
    "par_resistance(jumlah_resistor)\n",
    "\n",
    "\n",
    "# Masih error gatau"
   ]
  },
  {
   "cell_type": "code",
   "execution_count": 5,
   "id": "7132eb39",
   "metadata": {},
   "outputs": [
    {
     "name": "stdout",
     "output_type": "stream",
     "text": [
      "Masukkan jumlah Resistor : 3\n",
      "Masukkan Nilai Resistensi dalam Ohm :2\n",
      "Masukkan Nilai Resistensi dalam Ohm :2\n",
      "Masukkan Nilai Resistensi dalam Ohm :2\n",
      "Total resistensi = 1.5 Ohms\n"
     ]
    }
   ],
   "source": [
    "# ini buat ngitung paralel\n",
    "\n",
    "def par_resistance (jumlah):\n",
    "    par_res_total = 0\n",
    "    par_res_besar = []\n",
    "    par_count = 0\n",
    "\n",
    "    while par_count < jumlah:\n",
    "        try:\n",
    "            par_res_nilai = float(input('Masukkan Nilai Resistensi dalam Ohm :'))\n",
    "            par_res_besar.append(par_res_nilai)\n",
    "            par_res_total += 1/(par_res_nilai)\n",
    "            par_count += 1\n",
    "        \n",
    "        except ValueError as e:\n",
    "            print('Besar Resistor', e)\n",
    "            continue\n",
    "    \n",
    "    print('Total resistensi = {} Ohms'.format(par_res_total))\n",
    "    return\n",
    "\n",
    "jumlah_resistor = int(input('Masukkan jumlah Resistor : '))\n",
    "par_resistance(jumlah_resistor)\n",
    "\n",
    "\n",
    "# Udah ga error"
   ]
  },
  {
   "cell_type": "code",
   "execution_count": 7,
   "id": "69f2dcfc",
   "metadata": {},
   "outputs": [],
   "source": [
    "# ini fungsi\n",
    "def ser_resistance (jumlah):\n",
    "    ser_res_total = 0\n",
    "    ser_res_besar = []\n",
    "    ser_count = 0\n",
    "\n",
    "    while ser_count < jumlah:\n",
    "        try:\n",
    "            ser_res_nilai=float(input('Masukkan Nilai Resistensi dalam Ohm : '))\n",
    "            ser_res_besar.append(ser_res_nilai)\n",
    "            ser_res_total += ser_res_nilai\n",
    "            ser_count += 1\n",
    "\n",
    "        except ValueError as e:\n",
    "            print('Besaran Resistor', e)\n",
    "            continue\n",
    "    print(\"Total resistansi = {} Ohms\".format(ser_res_total))\n",
    "    return\n",
    "\n",
    "\n",
    "\n",
    "def par_resistance (jumlah):\n",
    "    par_res_total = 0\n",
    "    par_res_besar = []\n",
    "    jum_par_res = 0\n",
    "    par_count = 0\n",
    "\n",
    "    while par_count < jumlah:\n",
    "        try:\n",
    "            par_res_nilai = int(input('Masukkan Nilai Resistensi dalam Ohm :'))\n",
    "            par_res_besar.append(par_res_nilai)\n",
    "            par_count += 1\n",
    "        \n",
    "        except ValueError as e:\n",
    "            print('Besar Resistor', e)\n",
    "            continue\n",
    "    \n",
    "    for r in par_res_besar:\n",
    "        if r != 0 :\n",
    "             jum_par_res += 1/r\n",
    "\n",
    "    par_res_total = 1/jum_par_res\n",
    "\n",
    "    print('Total resistensi = {} Ohms'.format(par_res_total))\n",
    "    return\n"
   ]
  },
  {
   "cell_type": "code",
   "execution_count": 8,
   "id": "3dd7ba09",
   "metadata": {},
   "outputs": [
    {
     "name": "stdout",
     "output_type": "stream",
     "text": [
      "Masukkan jumlah resistor: 3\n",
      "Masukkan Nilai Resistensi dalam Ohm : 2\n",
      "Masukkan Nilai Resistensi dalam Ohm : 2\n",
      "Masukkan Nilai Resistensi dalam Ohm : 2\n",
      "Total resistansi = 6.0 Ohms\n"
     ]
    }
   ],
   "source": [
    "jumlah_resistor = int(input(\"Masukkan jumlah resistor: \"))\n",
    "ser_resistance(jumlah_resistor)"
   ]
  },
  {
   "cell_type": "code",
   "execution_count": 9,
   "id": "1d255997",
   "metadata": {},
   "outputs": [
    {
     "name": "stdout",
     "output_type": "stream",
     "text": [
      "Masukkan jumlah Resistor : 3\n",
      "Masukkan Nilai Resistensi dalam Ohm :2\n",
      "Masukkan Nilai Resistensi dalam Ohm :2\n",
      "Masukkan Nilai Resistensi dalam Ohm :2\n",
      "Total resistensi = 0.6666666666666666 Ohms\n"
     ]
    }
   ],
   "source": [
    "jumlah_resistor = int(input('Masukkan jumlah Resistor : '))\n",
    "par_resistance(jumlah_resistor)\n"
   ]
  },
  {
   "cell_type": "code",
   "execution_count": 11,
   "id": "24052427",
   "metadata": {},
   "outputs": [],
   "source": [
    "def ser_resistance (jumlah):\n",
    "    ser_res_total = 0\n",
    "    ser_res_besar = []\n",
    "    ser_count = 0\n",
    "\n",
    "    while ser_count < jumlah:\n",
    "        try:\n",
    "            ser_res_nilai=float(input('Masukkan Nilai Resistensi dalam Ohm : '))\n",
    "            ser_res_besar.append(ser_res_nilai)\n",
    "            ser_res_total += ser_res_nilai\n",
    "            ser_count += 1\n",
    "\n",
    "        except ValueError as e:\n",
    "            print('Besaran Resistor', e)\n",
    "            continue\n",
    "    r=0\n",
    "    for i in ser_res_besar:\n",
    "        r+=i\n",
    "    \n",
    "    print(\"Total resistansi = {} Ohms\".format(r))\n",
    "    return\n",
    "\n",
    "def par_resistance (jumlah):\n",
    "    par_res_total = 0\n",
    "    par_res_besar = []\n",
    "    jum_par_res = 0\n",
    "    par_count = 0\n",
    "\n",
    "    while par_count < jumlah:\n",
    "        try:\n",
    "            par_res_nilai = int(input('Masukkan Nilai Resistensi dalam Ohm :'))\n",
    "            par_res_besar.append(par_res_nilai)\n",
    "            par_count += 1\n",
    "        \n",
    "        except ValueError as e:\n",
    "            print('Besar Resistor', e)\n",
    "            continue\n",
    "    r=0\n",
    "    for i in par_res_besar:\n",
    "        r+=1/i\n",
    "\n",
    "    rfix=r**(-1)\n",
    "        \n",
    "\n",
    "    print('Total resistensi = {} Ohms'.format(rfix))\n",
    "    return"
   ]
  }
 ],
 "metadata": {
  "kernelspec": {
   "display_name": "Python 3 (ipykernel)",
   "language": "python",
   "name": "python3"
  },
  "language_info": {
   "codemirror_mode": {
    "name": "ipython",
    "version": 3
   },
   "file_extension": ".py",
   "mimetype": "text/x-python",
   "name": "python",
   "nbconvert_exporter": "python",
   "pygments_lexer": "ipython3",
   "version": "3.8.13"
  }
 },
 "nbformat": 4,
 "nbformat_minor": 5
}
