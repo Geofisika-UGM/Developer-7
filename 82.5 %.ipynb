{
 "cells": [
  {
   "cell_type": "code",
   "execution_count": 48,
   "id": "c5a1f38b",
   "metadata": {},
   "outputs": [
    {
     "name": "stdout",
     "output_type": "stream",
     "text": [
      "Number of elements in array:2\n",
      "2\n",
      "2\n",
      "[2, 2]\n",
      "Tipe rangkaian, input p untuk rangkaian pararel atau input s untuk rangkaian seri:p\n",
      "p\n",
      "Total resistensi paralel = 0.5 Ohm\n"
     ]
    }
   ],
   "source": [
    "#import numpy as np\n",
    "#a=np.array([a1],[a2],[a3])\n",
    "#cara masukin setiap blok tipe rangkaian dan besar resistor ke array tersebut gimana?\n",
    "#nek udah masuk, tinggal dipangil pakai print(a)\n",
    "\n",
    "#dibawah ini udah, outputnya masih berupa array satu dimensi\n",
    "#a=[]\n",
    "#for i in range (3):\n",
    "#    m=str(input(\"Tipe rangkaian, input p untuk rangkaian pararel atau input s untuk rangkaian seri:\"))\n",
    "#    n=int(input(\"Number of elements in array:\"))\n",
    "#    for i in range(0,n):\n",
    "#        z =int(input())\n",
    "#        a.append(z)\n",
    "#print(a)\n",
    "\n",
    "#dibawa ini array nya baru 1 jadi loopnya cuma 1 padahal yang diminta loopnya ada 3\n",
    "a=[]\n",
    "n=int(input(\"Number of elements in array:\"))\n",
    "for i in range(0,n):\n",
    "   z =int(input())\n",
    "   a.append(z)\n",
    "print(a)\n",
    "m=str(input(\"Tipe rangkaian, input p untuk rangkaian pararel atau input s untuk rangkaian seri:\"))\n",
    "\n",
    "#benerin def def biar outpunya bener abis itu inputnya diubah jadi array multidimensi seperti comment di atas\n",
    "def tipe_par(p):\n",
    "    #kalau p = m == 'p'\n",
    "    par_res_total = 0\n",
    "    par_count = 0\n",
    "    while par_count < len(a):\n",
    "        try:\n",
    "            par_res_nilai = len(a)\n",
    "            par_res_total += 1/(par_res_nilai)\n",
    "            par_count += 1\n",
    "        except ValueError as e:\n",
    "            print('Besar Resistor', e)\n",
    "            continue\n",
    "        print('Total resistensi paralel = {} Ohm'.format(par_res_total))\n",
    "        return \n",
    "def tipe_seri(s):\n",
    "    #kalau s = m == 's'\n",
    "    #def ser_resistance (a):\n",
    "    ser_res_total = 0\n",
    "    ser_count = 0\n",
    "            \n",
    "    while ser_count < len(a)+2:\n",
    "        try:\n",
    "            ser_res_nilai = len(a)\n",
    "            ser_res_total += ser_res_nilai\n",
    "            ser_count += 1\n",
    "        except ValueError as e:\n",
    "            print('Besaran Resistor', e)\n",
    "            continue\n",
    "        print(\"Total resistansi seri= {} Ohm\".format(ser_res_total))\n",
    "        return \n",
    "print(m)\n",
    "if m == 'p':\n",
    "    tipe_par(len(a))\n",
    "elif m == 's':\n",
    "    tipe_seri(len(a))"
   ]
  }
 ],
 "metadata": {
  "kernelspec": {
   "display_name": "Python 3 (ipykernel)",
   "language": "python",
   "name": "python3"
  },
  "language_info": {
   "codemirror_mode": {
    "name": "ipython",
    "version": 3
   },
   "file_extension": ".py",
   "mimetype": "text/x-python",
   "name": "python",
   "nbconvert_exporter": "python",
   "pygments_lexer": "ipython3",
   "version": "3.10.6"
  },
  "vscode": {
   "interpreter": {
    "hash": "2975ce78cb703cbf264356bf7333929784bf3b5ba3576048c471cb2932a2109e"
   }
  }
 },
 "nbformat": 4,
 "nbformat_minor": 5
}
